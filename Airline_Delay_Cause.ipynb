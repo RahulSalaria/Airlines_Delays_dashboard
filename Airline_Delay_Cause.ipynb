{
  "nbformat": 4,
  "nbformat_minor": 0,
  "metadata": {
    "colab": {
      "provenance": []
    },
    "kernelspec": {
      "name": "python3",
      "display_name": "Python 3"
    },
    "language_info": {
      "name": "python"
    }
  },
  "cells": [
    {
      "cell_type": "code",
      "execution_count": 2,
      "metadata": {
        "id": "8oVxOZh6GYk_"
      },
      "outputs": [],
      "source": [
        "import pandas as pd\n",
        "\n",
        "dataset = pd.read_csv('Airline_Delay_Cause.csv')"
      ]
    },
    {
      "cell_type": "code",
      "source": [
        "print(dataset.head())"
      ],
      "metadata": {
        "colab": {
          "base_uri": "https://localhost:8080/"
        },
        "id": "KC1P6b_GdT8X",
        "outputId": "4eed360a-d662-4c01-fa81-b1248a71d68f"
      },
      "execution_count": 4,
      "outputs": [
        {
          "output_type": "stream",
          "name": "stdout",
          "text": [
            "   year  month carrier       carrier_name airport  \\\n",
            "0  2023      8      9E  Endeavor Air Inc.     ABE   \n",
            "1  2023      8      9E  Endeavor Air Inc.     ABY   \n",
            "2  2023      8      9E  Endeavor Air Inc.     AEX   \n",
            "3  2023      8      9E  Endeavor Air Inc.     AGS   \n",
            "4  2023      8      9E  Endeavor Air Inc.     ALB   \n",
            "\n",
            "                                        airport_name  arr_flights  arr_del15  \\\n",
            "0  Allentown/Bethlehem/Easton, PA: Lehigh Valley ...         89.0       13.0   \n",
            "1             Albany, GA: Southwest Georgia Regional         62.0       10.0   \n",
            "2           Alexandria, LA: Alexandria International         62.0       10.0   \n",
            "3        Augusta, GA: Augusta Regional at Bush Field         66.0       12.0   \n",
            "4                   Albany, NY: Albany International         92.0       22.0   \n",
            "\n",
            "   carrier_ct  weather_ct  ...  security_ct  late_aircraft_ct  arr_cancelled  \\\n",
            "0        2.25        1.60  ...          0.0              5.99            2.0   \n",
            "1        1.97        0.04  ...          0.0              7.42            0.0   \n",
            "2        2.73        1.18  ...          0.0              4.28            1.0   \n",
            "3        3.69        2.27  ...          0.0              1.57            1.0   \n",
            "4        7.76        0.00  ...          0.0             11.28            2.0   \n",
            "\n",
            "   arr_diverted  arr_delay  carrier_delay  weather_delay  nas_delay  \\\n",
            "0           1.0     1375.0           71.0          761.0      118.0   \n",
            "1           1.0      799.0          218.0            1.0       62.0   \n",
            "2           0.0      766.0           56.0          188.0       78.0   \n",
            "3           1.0     1397.0          471.0          320.0      388.0   \n",
            "4           0.0     1530.0          628.0            0.0      134.0   \n",
            "\n",
            "   security_delay  late_aircraft_delay  \n",
            "0             0.0                425.0  \n",
            "1             0.0                518.0  \n",
            "2             0.0                444.0  \n",
            "3             0.0                218.0  \n",
            "4             0.0                768.0  \n",
            "\n",
            "[5 rows x 21 columns]\n"
          ]
        }
      ]
    },
    {
      "cell_type": "code",
      "source": [
        "print(dataset.columns)"
      ],
      "metadata": {
        "colab": {
          "base_uri": "https://localhost:8080/"
        },
        "id": "ubq0Bhx8dOGi",
        "outputId": "d867f13d-ce57-4f70-a45d-a94d851c510d"
      },
      "execution_count": 6,
      "outputs": [
        {
          "output_type": "stream",
          "name": "stdout",
          "text": [
            "Index(['year', 'month', 'carrier', 'carrier_name', 'airport', 'airport_name',\n",
            "       'arr_flights', 'arr_del15', 'carrier_ct', 'weather_ct', 'nas_ct',\n",
            "       'security_ct', 'late_aircraft_ct', 'arr_cancelled', 'arr_diverted',\n",
            "       'arr_delay', 'carrier_delay', 'weather_delay', 'nas_delay',\n",
            "       'security_delay', 'late_aircraft_delay'],\n",
            "      dtype='object')\n"
          ]
        }
      ]
    },
    {
      "cell_type": "code",
      "source": [
        "dataset.info()"
      ],
      "metadata": {
        "colab": {
          "base_uri": "https://localhost:8080/"
        },
        "id": "2Qhgr_kbdqqk",
        "outputId": "63aafdcc-ecc8-4c23-e337-8362a1780297"
      },
      "execution_count": 7,
      "outputs": [
        {
          "output_type": "stream",
          "name": "stdout",
          "text": [
            "<class 'pandas.core.frame.DataFrame'>\n",
            "RangeIndex: 171666 entries, 0 to 171665\n",
            "Data columns (total 21 columns):\n",
            " #   Column               Non-Null Count   Dtype  \n",
            "---  ------               --------------   -----  \n",
            " 0   year                 171666 non-null  int64  \n",
            " 1   month                171666 non-null  int64  \n",
            " 2   carrier              171666 non-null  object \n",
            " 3   carrier_name         171666 non-null  object \n",
            " 4   airport              171666 non-null  object \n",
            " 5   airport_name         171666 non-null  object \n",
            " 6   arr_flights          171426 non-null  float64\n",
            " 7   arr_del15            171223 non-null  float64\n",
            " 8   carrier_ct           171426 non-null  float64\n",
            " 9   weather_ct           171426 non-null  float64\n",
            " 10  nas_ct               171426 non-null  float64\n",
            " 11  security_ct          171426 non-null  float64\n",
            " 12  late_aircraft_ct     171426 non-null  float64\n",
            " 13  arr_cancelled        171426 non-null  float64\n",
            " 14  arr_diverted         171426 non-null  float64\n",
            " 15  arr_delay            171426 non-null  float64\n",
            " 16  carrier_delay        171426 non-null  float64\n",
            " 17  weather_delay        171426 non-null  float64\n",
            " 18  nas_delay            171426 non-null  float64\n",
            " 19  security_delay       171426 non-null  float64\n",
            " 20  late_aircraft_delay  171426 non-null  float64\n",
            "dtypes: float64(15), int64(2), object(4)\n",
            "memory usage: 27.5+ MB\n"
          ]
        }
      ]
    },
    {
      "cell_type": "code",
      "source": [
        "dataset.isnull().sum()"
      ],
      "metadata": {
        "colab": {
          "base_uri": "https://localhost:8080/",
          "height": 742
        },
        "id": "B8ihHzRUdvzm",
        "outputId": "942b7f19-37cb-4c91-94a7-469ccb3be462"
      },
      "execution_count": 8,
      "outputs": [
        {
          "output_type": "execute_result",
          "data": {
            "text/plain": [
              "year                     0\n",
              "month                    0\n",
              "carrier                  0\n",
              "carrier_name             0\n",
              "airport                  0\n",
              "airport_name             0\n",
              "arr_flights            240\n",
              "arr_del15              443\n",
              "carrier_ct             240\n",
              "weather_ct             240\n",
              "nas_ct                 240\n",
              "security_ct            240\n",
              "late_aircraft_ct       240\n",
              "arr_cancelled          240\n",
              "arr_diverted           240\n",
              "arr_delay              240\n",
              "carrier_delay          240\n",
              "weather_delay          240\n",
              "nas_delay              240\n",
              "security_delay         240\n",
              "late_aircraft_delay    240\n",
              "dtype: int64"
            ],
            "text/html": [
              "<div>\n",
              "<style scoped>\n",
              "    .dataframe tbody tr th:only-of-type {\n",
              "        vertical-align: middle;\n",
              "    }\n",
              "\n",
              "    .dataframe tbody tr th {\n",
              "        vertical-align: top;\n",
              "    }\n",
              "\n",
              "    .dataframe thead th {\n",
              "        text-align: right;\n",
              "    }\n",
              "</style>\n",
              "<table border=\"1\" class=\"dataframe\">\n",
              "  <thead>\n",
              "    <tr style=\"text-align: right;\">\n",
              "      <th></th>\n",
              "      <th>0</th>\n",
              "    </tr>\n",
              "  </thead>\n",
              "  <tbody>\n",
              "    <tr>\n",
              "      <th>year</th>\n",
              "      <td>0</td>\n",
              "    </tr>\n",
              "    <tr>\n",
              "      <th>month</th>\n",
              "      <td>0</td>\n",
              "    </tr>\n",
              "    <tr>\n",
              "      <th>carrier</th>\n",
              "      <td>0</td>\n",
              "    </tr>\n",
              "    <tr>\n",
              "      <th>carrier_name</th>\n",
              "      <td>0</td>\n",
              "    </tr>\n",
              "    <tr>\n",
              "      <th>airport</th>\n",
              "      <td>0</td>\n",
              "    </tr>\n",
              "    <tr>\n",
              "      <th>airport_name</th>\n",
              "      <td>0</td>\n",
              "    </tr>\n",
              "    <tr>\n",
              "      <th>arr_flights</th>\n",
              "      <td>240</td>\n",
              "    </tr>\n",
              "    <tr>\n",
              "      <th>arr_del15</th>\n",
              "      <td>443</td>\n",
              "    </tr>\n",
              "    <tr>\n",
              "      <th>carrier_ct</th>\n",
              "      <td>240</td>\n",
              "    </tr>\n",
              "    <tr>\n",
              "      <th>weather_ct</th>\n",
              "      <td>240</td>\n",
              "    </tr>\n",
              "    <tr>\n",
              "      <th>nas_ct</th>\n",
              "      <td>240</td>\n",
              "    </tr>\n",
              "    <tr>\n",
              "      <th>security_ct</th>\n",
              "      <td>240</td>\n",
              "    </tr>\n",
              "    <tr>\n",
              "      <th>late_aircraft_ct</th>\n",
              "      <td>240</td>\n",
              "    </tr>\n",
              "    <tr>\n",
              "      <th>arr_cancelled</th>\n",
              "      <td>240</td>\n",
              "    </tr>\n",
              "    <tr>\n",
              "      <th>arr_diverted</th>\n",
              "      <td>240</td>\n",
              "    </tr>\n",
              "    <tr>\n",
              "      <th>arr_delay</th>\n",
              "      <td>240</td>\n",
              "    </tr>\n",
              "    <tr>\n",
              "      <th>carrier_delay</th>\n",
              "      <td>240</td>\n",
              "    </tr>\n",
              "    <tr>\n",
              "      <th>weather_delay</th>\n",
              "      <td>240</td>\n",
              "    </tr>\n",
              "    <tr>\n",
              "      <th>nas_delay</th>\n",
              "      <td>240</td>\n",
              "    </tr>\n",
              "    <tr>\n",
              "      <th>security_delay</th>\n",
              "      <td>240</td>\n",
              "    </tr>\n",
              "    <tr>\n",
              "      <th>late_aircraft_delay</th>\n",
              "      <td>240</td>\n",
              "    </tr>\n",
              "  </tbody>\n",
              "</table>\n",
              "</div><br><label><b>dtype:</b> int64</label>"
            ]
          },
          "metadata": {},
          "execution_count": 8
        }
      ]
    },
    {
      "cell_type": "code",
      "source": [
        "dataset.dropna(inplace=True)"
      ],
      "metadata": {
        "id": "nlepi_dkdqyJ"
      },
      "execution_count": 9,
      "outputs": []
    },
    {
      "cell_type": "code",
      "source": [
        "dataset['Date'] = pd.to_datetime(dataset['year'].astype(str) + '-' + dataset['month'].astype(str))\n"
      ],
      "metadata": {
        "id": "owxkfL7kd8TP"
      },
      "execution_count": 14,
      "outputs": []
    },
    {
      "cell_type": "code",
      "source": [
        "dataset['DayofWeek'] = dataset['Date'].dt.day_name()"
      ],
      "metadata": {
        "id": "wQtsFCl3eBey"
      },
      "execution_count": 13,
      "outputs": []
    },
    {
      "cell_type": "code",
      "source": [
        "dataset['Month'] = dataset['Date'].dt.month_name()"
      ],
      "metadata": {
        "id": "n3bHEpy3eBxo"
      },
      "execution_count": 12,
      "outputs": []
    },
    {
      "cell_type": "code",
      "source": [
        "dataset['OnTime'] = dataset['arr_delay'] <= 15\n"
      ],
      "metadata": {
        "id": "h2i3B9RYfsG_"
      },
      "execution_count": 21,
      "outputs": []
    },
    {
      "cell_type": "code",
      "source": [
        "dataset.to_csv(\"Airline_Delay_Cause.csv\", index=False)\n"
      ],
      "metadata": {
        "id": "5VAlzQpfgzty"
      },
      "execution_count": 24,
      "outputs": []
    }
  ]
}